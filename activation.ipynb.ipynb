{
 "cells": [
  {
   "cell_type": "markdown",
   "id": "cbeffb64",
   "metadata": {},
   "source": [
    "Design a multilayer deep neural network with a linear input layer, Tanh or ReLU activation for the hidden layers, and sigmoid or softmax activation for the output layer"
   ]
  },
  {
   "cell_type": "code",
   "execution_count": 1,
   "id": "3213d011",
   "metadata": {},
   "outputs": [
    {
     "name": "stdout",
     "output_type": "stream",
     "text": [
      "[[0.22378801 0.42616628]]\n"
     ]
    }
   ],
   "source": [
    "\n",
    "\n",
    "import numpy as np\n",
    "\n",
    "def tanh(x):\n",
    "    return np.tanh(x)\n",
    "\n",
    "def relu(x):\n",
    "    return np.maximum(0, x)\n",
    "\n",
    "def sigmoid(x):\n",
    "    return 1 / (1 + np.exp(-x))\n",
    "\n",
    "def softmax(x):\n",
    "    \n",
    "    exps = np.exp(x - np.max(x, axis=1, keepdims=True))\n",
    "    return exps / np.sum(exps, axis=1, keepdims=True)\n",
    "\n",
    "class DeepNeuralNetwork:\n",
    "    def __init__(self, input_size, hidden_layer_sizes, output_size):\n",
    "        \n",
    "        layer_sizes = [input_size] + hidden_layer_sizes + [output_size]\n",
    "        self.weights = [np.random.randn(layer_sizes[i], layer_sizes[i+1]) for i in range(len(layer_sizes) - 1)]\n",
    "        self.biases = [np.random.randn(1, layer_sizes[i+1]) for i in range(len(layer_sizes) - 1)]\n",
    "\n",
    "    def forward(self, x):\n",
    "        \n",
    "        a = x\n",
    "        for w, b in zip(self.weights, self.biases):\n",
    "            z = np.dot(a, w) + b\n",
    "            a = tanh(z) if w is not self.weights[-1] else sigmoid(z)\n",
    "        return a\n",
    "\n",
    "input_size = 2\n",
    "hidden_layer_sizes = [3, 4]\n",
    "output_size = 2\n",
    "\n",
    "dnn = DeepNeuralNetwork(input_size, hidden_layer_sizes, output_size)                                                                                                                                                                                                                                                                                                                                                                                                                                                                                                                                      \n",
    "x = np.random.randn(1, input_size)\n",
    "output = dnn.forward(x)\n",
    "print(output)\n",
    "\n"
   ]
  },
  {
   "cell_type": "code",
   "execution_count": null,
   "id": "9160785d",
   "metadata": {},
   "outputs": [],
   "source": []
  }
 ],
 "metadata": {
  "kernelspec": {
   "display_name": "Python 3 (ipykernel)",
   "language": "python",
   "name": "python3"
  },
  "language_info": {
   "codemirror_mode": {
    "name": "ipython",
    "version": 3
   },
   "file_extension": ".py",
   "mimetype": "text/x-python",
   "name": "python",
   "nbconvert_exporter": "python",
   "pygments_lexer": "ipython3",
   "version": "3.11.3"
  }
 },
 "nbformat": 4,
 "nbformat_minor": 5
}
